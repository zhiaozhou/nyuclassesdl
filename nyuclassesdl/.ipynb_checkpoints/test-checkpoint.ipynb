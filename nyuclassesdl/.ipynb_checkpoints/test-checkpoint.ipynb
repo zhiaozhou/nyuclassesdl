{
 "cells": [
  {
   "cell_type": "code",
   "execution_count": 11,
   "metadata": {
    "ExecuteTime": {
     "end_time": "2018-04-21T22:37:46.325000Z",
     "start_time": "2018-04-21T22:37:46.314000Z"
    },
    "collapsed": true
   },
   "outputs": [],
   "source": [
    "from selenium import webdriver\n",
    "from selenium.common.exceptions import TimeoutException\n",
    "from selenium.webdriver.support.ui import WebDriverWait\n",
    "from selenium.webdriver.support import expected_conditions as EC\n",
    "from selenium.webdriver.common.by import By\n",
    "from selenium.webdriver.common.keys import Keys\n",
    "from selenium.webdriver.common.action_chains import ActionChains\n",
    "from selenium.webdriver.chrome.options import Options\n",
    "import re\n",
    "import os\n",
    "import urllib\n",
    "import sys\n",
    "import time\n",
    "from time import time\n",
    "\n",
    "reload(sys)\n",
    "sys.setdefaultencoding('utf8')\n",
    "\n",
    "try:\n",
    "    from urllib import unquote\n",
    "except ImportError:\n",
    "    from urllib.parse import unquote"
   ]
  },
  {
   "cell_type": "code",
   "execution_count": 13,
   "metadata": {
    "ExecuteTime": {
     "end_time": "2018-04-21T22:38:05.067000Z",
     "start_time": "2018-04-21T22:38:05.064000Z"
    },
    "collapsed": true
   },
   "outputs": [],
   "source": [
    "DIR = 'D:/Coursera_ML/'"
   ]
  },
  {
   "cell_type": "code",
   "execution_count": 17,
   "metadata": {
    "ExecuteTime": {
     "end_time": "2018-04-21T22:40:03.433000Z",
     "start_time": "2018-04-21T22:39:56.371000Z"
    },
    "collapsed": true
   },
   "outputs": [],
   "source": [
    "options = Options()\n",
    "options.add_experimental_option(\"prefs\", {\n",
    "  \"download.default_directory\": DIR,\n",
    "  \"download.prompt_for_download\": False,\n",
    "  \"download.directory_upgrade\": True,\n",
    "  \"safebrowsing.enabled\": True\n",
    "})\n",
    "\n",
    "driver = webdriver.Chrome(chrome_options=options,executable_path=\"C:\\Program Files (x86)\\Google\\Chrome\\Application\\chromedriver.exe\")\n",
    "\n",
    "timeout = 5    \n",
    "\n",
    "driver.get(\"http://newclasses.nyu.edu/\")\n",
    "driver.maximize_window()\n",
    "\n",
    "assert \"NYU Login\" in driver.title"
   ]
  },
  {
   "cell_type": "code",
   "execution_count": 21,
   "metadata": {
    "ExecuteTime": {
     "end_time": "2018-04-21T22:42:19.083000Z",
     "start_time": "2018-04-21T22:42:18.926000Z"
    },
    "collapsed": true
   },
   "outputs": [],
   "source": [
    "elem1 = driver.find_element_by_id('netid')\n",
    "elem2 = driver.find_element_by_id('password')\n",
    "elem1.clear()\n",
    "elem1.send_keys(netid)\n",
    "elem2.clear()\n",
    "elem2.send_keys(password)"
   ]
  },
  {
   "cell_type": "code",
   "execution_count": 22,
   "metadata": {
    "ExecuteTime": {
     "end_time": "2018-04-21T22:42:26.155000Z",
     "start_time": "2018-04-21T22:42:25.965000Z"
    },
    "collapsed": true
   },
   "outputs": [],
   "source": [
    "elem2.send_keys(Keys.RETURN)"
   ]
  },
  {
   "cell_type": "code",
   "execution_count": 23,
   "metadata": {
    "ExecuteTime": {
     "end_time": "2018-04-21T22:42:45.598000Z",
     "start_time": "2018-04-21T22:42:45.551000Z"
    },
    "collapsed": true
   },
   "outputs": [],
   "source": [
    "driver.switch_to_frame(driver.find_element_by_xpath('//*[@id=\"duo_iframe\"]'))"
   ]
  },
  {
   "cell_type": "code",
   "execution_count": 24,
   "metadata": {
    "ExecuteTime": {
     "end_time": "2018-04-21T22:45:23.871000Z",
     "start_time": "2018-04-21T22:45:23.868000Z"
    },
    "collapsed": true
   },
   "outputs": [],
   "source": [
    "from time import time"
   ]
  },
  {
   "cell_type": "code",
   "execution_count": 25,
   "metadata": {
    "ExecuteTime": {
     "end_time": "2018-04-21T22:45:30.149000Z",
     "start_time": "2018-04-21T22:45:30.147000Z"
    },
    "collapsed": true
   },
   "outputs": [],
   "source": [
    "import time"
   ]
  },
  {
   "cell_type": "code",
   "execution_count": 27,
   "metadata": {
    "ExecuteTime": {
     "end_time": "2018-04-21T22:46:12.879000Z",
     "start_time": "2018-04-21T22:46:12.876000Z"
    },
    "collapsed": true
   },
   "outputs": [],
   "source": [
    "from time import sleep"
   ]
  },
  {
   "cell_type": "code",
   "execution_count": 28,
   "metadata": {
    "ExecuteTime": {
     "end_time": "2018-04-21T22:46:17.764000Z",
     "start_time": "2018-04-21T22:46:17.753000Z"
    }
   },
   "outputs": [
    {
     "data": {
      "text/plain": [
       "<function time.sleep>"
      ]
     },
     "execution_count": 28,
     "metadata": {},
     "output_type": "execute_result"
    }
   ],
   "source": [
    "time.sleep"
   ]
  }
 ],
 "metadata": {
  "kernelspec": {
   "display_name": "Python 2",
   "language": "python",
   "name": "python2"
  },
  "language_info": {
   "codemirror_mode": {
    "name": "ipython",
    "version": 2
   },
   "file_extension": ".py",
   "mimetype": "text/x-python",
   "name": "python",
   "nbconvert_exporter": "python",
   "pygments_lexer": "ipython2",
   "version": "2.7.14"
  },
  "varInspector": {
   "cols": {
    "lenName": 16,
    "lenType": 16,
    "lenVar": 40
   },
   "kernels_config": {
    "python": {
     "delete_cmd_postfix": "",
     "delete_cmd_prefix": "del ",
     "library": "var_list.py",
     "varRefreshCmd": "print(var_dic_list())"
    },
    "r": {
     "delete_cmd_postfix": ") ",
     "delete_cmd_prefix": "rm(",
     "library": "var_list.r",
     "varRefreshCmd": "cat(var_dic_list()) "
    }
   },
   "types_to_exclude": [
    "module",
    "function",
    "builtin_function_or_method",
    "instance",
    "_Feature"
   ],
   "window_display": false
  }
 },
 "nbformat": 4,
 "nbformat_minor": 2
}
